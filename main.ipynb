{
 "cells": [
  {
   "cell_type": "code",
   "execution_count": 2,
   "metadata": {},
   "outputs": [],
   "source": [
    "#Import Modules\n",
    "\n",
    "import numpy as np\n",
    "import pandas as pd\n",
    "import itertools \n",
    "from sklearn.model_selection import train_test_split\n",
    "from sklearn.feature_extraction.text import TfidfVectorizer\n",
    "from sklearn.linear_model import PassiveAggressiveClassifier\n",
    "from sklearn.metrics import accuracy_score, confusion_matrix"
   ]
  },
  {
   "cell_type": "code",
   "execution_count": 3,
   "metadata": {
    "scrolled": true
   },
   "outputs": [],
   "source": [
    "#Read data and get shape for first 5 records\n",
    "\n",
    "data = pd.read_csv('C:\\\\Users\\\\sarta\\\\Desktop\\\\Fake_News\\\\news.csv')\n",
    "#print(data.shape)\n",
    "#data.head()"
   ]
  },
  {
   "cell_type": "code",
   "execution_count": 6,
   "metadata": {},
   "outputs": [],
   "source": [
    "#Get only labels\n",
    "\n",
    "labels = data.label\n",
    "#labels.head()"
   ]
  },
  {
   "cell_type": "code",
   "execution_count": 17,
   "metadata": {},
   "outputs": [],
   "source": [
    "#Split the dataset into training and test sets\n",
    "\n",
    "X_train,X_test,y_train,y_test=train_test_split(data['text'],\n",
    "                                              labels,\n",
    "                                              test_size=0.2)"
   ]
  },
  {
   "cell_type": "code",
   "execution_count": 18,
   "metadata": {},
   "outputs": [],
   "source": [
    "#Initializing a TfidVectorizer\n",
    "\n",
    "tf_Vec = TfidfVectorizer(stop_words = 'english', max_df = 0.7) "
   ]
  },
  {
   "cell_type": "code",
   "execution_count": 19,
   "metadata": {},
   "outputs": [],
   "source": [
    "#Fit and Transfrom \n",
    "\n",
    "tf_Vec_train = tf_Vec.fit_transform(X_train)\n",
    "tf_Vec_test = tf_Vec.transform(X_test)"
   ]
  },
  {
   "cell_type": "code",
   "execution_count": 28,
   "metadata": {
    "scrolled": false
   },
   "outputs": [
    {
     "name": "stdout",
     "output_type": "stream",
     "text": [
      "Accuracy : 94.08\n"
     ]
    }
   ],
   "source": [
    "#Initializing a Passive Agressive Classifier\n",
    "\n",
    "pac = PassiveAggressiveClassifier(max_iter = 50)\n",
    "pac.fit(tf_Vec_train,y_train)\n",
    "\n",
    "#Fit and Transform\n",
    "#print(tf_Vec_test.shape, tf_Vec_train.shape)\n",
    "y_pred = pac.predict(tf_Vec_test)\n",
    "accuracy = accuracy_score(y_test,y_pred)\n",
    "print(f'Accuracy : {round(accuracy*100,2)}')\n",
    "\n"
   ]
  },
  {
   "cell_type": "code",
   "execution_count": 25,
   "metadata": {},
   "outputs": [
    {
     "name": "stdout",
     "output_type": "stream",
     "text": [
      "Confusion Matrix : [[614  31]\n",
      " [ 41 581]]\n"
     ]
    }
   ],
   "source": [
    "#Confusion matrix\n",
    "\n",
    "cm = confusion_matrix(y_test,y_pred, labels=['FAKE','REAL'])\n",
    "print(f'Confusion Matrix : {cm}')"
   ]
  }
 ],
 "metadata": {
  "kernelspec": {
   "display_name": "Python 3",
   "language": "python",
   "name": "python3"
  },
  "language_info": {
   "codemirror_mode": {
    "name": "ipython",
    "version": 3
   },
   "file_extension": ".py",
   "mimetype": "text/x-python",
   "name": "python",
   "nbconvert_exporter": "python",
   "pygments_lexer": "ipython3",
   "version": "3.7.4"
  }
 },
 "nbformat": 4,
 "nbformat_minor": 2
}
